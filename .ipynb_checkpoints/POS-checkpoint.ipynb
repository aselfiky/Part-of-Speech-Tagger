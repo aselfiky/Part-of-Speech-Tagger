{
 "cells": [
  {
   "cell_type": "code",
   "execution_count": 139,
   "metadata": {
    "collapsed": false
   },
   "outputs": [],
   "source": [
    "import nltk\n",
    "from nltk.corpus import brown\n",
    "from nltk.tokenize import sent_tokenize\n",
    "import string\n",
    "from collections import defaultdict\n",
    "from collections import Counter\n",
    "import numpy as np\n",
    "import math"
   ]
  },
  {
   "cell_type": "code",
   "execution_count": 34,
   "metadata": {
    "collapsed": true
   },
   "outputs": [],
   "source": [
    "corp = brown.sents(categories='news')\n",
    "brown_news_tagged = brown.tagged_sents(categories='news', tagset='universal')"
   ]
  },
  {
   "cell_type": "code",
   "execution_count": 134,
   "metadata": {
    "collapsed": true
   },
   "outputs": [],
   "source": [
    "flat_corp = [item for l in corp for item in l]"
   ]
  },
  {
   "cell_type": "code",
   "execution_count": 74,
   "metadata": {
    "collapsed": false
   },
   "outputs": [],
   "source": [
    "flat_brown = [item for l in brown_news_tagged for item in l]"
   ]
  },
  {
   "cell_type": "code",
   "execution_count": 137,
   "metadata": {
    "collapsed": true
   },
   "outputs": [],
   "source": [
    "pi_DET = [1]"
   ]
  },
  {
   "cell_type": "code",
   "execution_count": 77,
   "metadata": {
    "collapsed": false
   },
   "outputs": [],
   "source": [
    "b = Counter(flat_brown)"
   ]
  },
  {
   "cell_type": "code",
   "execution_count": 101,
   "metadata": {
    "collapsed": false
   },
   "outputs": [],
   "source": [
    "b_ik = defaultdict(dict)\n",
    "for w_pos, c in b.items():\n",
    "    b_ik[w_pos[0]][w_pos[1]] = c"
   ]
  },
  {
   "cell_type": "code",
   "execution_count": 121,
   "metadata": {
    "collapsed": true
   },
   "outputs": [],
   "source": [
    "denom = defaultdict(int)\n",
    "for w_pos, c in b.items():\n",
    "    denom[w_pos[1]] += c"
   ]
  },
  {
   "cell_type": "code",
   "execution_count": 122,
   "metadata": {
    "collapsed": false
   },
   "outputs": [],
   "source": [
    "for w, d in b_ik.items():\n",
    "    for pos, c in d.items():\n",
    "        d[pos] = c * 1.0 / denom[pos]"
   ]
  },
  {
   "cell_type": "code",
   "execution_count": 123,
   "metadata": {
    "collapsed": false
   },
   "outputs": [],
   "source": [
    "a_ij = defaultdict(dict)\n",
    "\n",
    "for c in range(0, len(flat_brown) - 1):\n",
    "    if flat_brown[c+1][1] in a_ij[flat_brown[c][1]]:\n",
    "        a_ij[flat_brown[c][1]][flat_brown[c+1][1]] += 1\n",
    "    else:\n",
    "        a_ij[flat_brown[c][1]][flat_brown[c+1][1]] = 1"
   ]
  },
  {
   "cell_type": "code",
   "execution_count": 124,
   "metadata": {
    "collapsed": false
   },
   "outputs": [],
   "source": [
    "for pos, d in a_ij.items():\n",
    "    for p, c in d.items():\n",
    "        d[p] = c * 1.0 / denom[pos]"
   ]
  },
  {
   "cell_type": "code",
   "execution_count": 125,
   "metadata": {
    "collapsed": false
   },
   "outputs": [
    {
     "name": "stdout",
     "output_type": "stream",
     "text": [
      "DET: 1.0000000000000002\n",
      "PRON: 1.0\n",
      "ADJ: 1.0\n",
      "ADP: 1.0\n",
      "PRT: 1.0\n",
      "NOUN: 1.0\n",
      "ADV: 1.0\n",
      ".: 0.999916163648558\n",
      "NUM: 1.0\n",
      "X: 1.0\n",
      "CONJ: 1.0\n",
      "VERB: 1.0\n"
     ]
    }
   ],
   "source": [
    "for pos, d in a_ij.items():\n",
    "    count = 0\n",
    "    for p, c in d.items():\n",
    "        count += c\n",
    "    print(pos + \": \"+ str(count))"
   ]
  },
  {
   "cell_type": "code",
   "execution_count": 126,
   "metadata": {
    "collapsed": false
   },
   "outputs": [],
   "source": [
    "o_index = dict(zip(b_ik, range(len(b_ik))))"
   ]
  },
  {
   "cell_type": "code",
   "execution_count": 127,
   "metadata": {
    "collapsed": false
   },
   "outputs": [],
   "source": [
    "s_index = dict(zip(a_ij, range(len(a_ij))))"
   ]
  },
  {
   "cell_type": "code",
   "execution_count": 128,
   "metadata": {
    "collapsed": true
   },
   "outputs": [],
   "source": [
    "em = np.zeros((len(s_index), len(o_index)))\n",
    "tm = np.zeros((len(s_index), len(s_index)))"
   ]
  },
  {
   "cell_type": "code",
   "execution_count": 129,
   "metadata": {
    "collapsed": false
   },
   "outputs": [],
   "source": [
    "for o, s in b_ik.items():\n",
    "    for pos, prob in s.items():\n",
    "        em[s_index[pos]][o_index[o]] = prob"
   ]
  },
  {
   "cell_type": "code",
   "execution_count": 130,
   "metadata": {
    "collapsed": true
   },
   "outputs": [],
   "source": [
    "for si, pos in a_ij.items():\n",
    "    for sj, prob in pos. items():\n",
    "        tm[s_index[si]][s_index[sj]] = prob"
   ]
  },
  {
   "cell_type": "code",
   "execution_count": 151,
   "metadata": {
    "collapsed": true
   },
   "outputs": [],
   "source": [
    "def helper(col, tm):\n",
    "    mx = (-1, -math.inf)\n",
    "\n",
    "    for row in range(len(col)):\n",
    "        value = col[row]\n",
    "        try:\n",
    "            value += math.log(tm[row])\n",
    "        except:\n",
    "            value = 0\n",
    "\n",
    "        if value > mx[1]:\n",
    "            mx = (row, value)\n",
    "\n",
    "    return mx"
   ]
  },
  {
   "cell_type": "code",
   "execution_count": 156,
   "metadata": {
    "collapsed": true
   },
   "outputs": [],
   "source": [
    "def run(em, tm, obs, init):\n",
    "    n = len(em); T = len(obs)\n",
    "    # step 1: init n x T matrix\n",
    "    ls = np.zeros((n, T))\n",
    "    phi = np.zeros((n, T))\n",
    "\n",
    "\n",
    "    # col 1 in ls -> log(pi_i*bi_o1)\n",
    "    for r in range(len(init)):\n",
    "        value = init[r]*em[r][o_index[obs[0]]]\n",
    "        if (value == 0):\n",
    "            ls[r][0] = 0\n",
    "        else:\n",
    "            ls[r][0] = math.log(value)\n",
    "\n",
    "\n",
    "    #step 2: fill in tables by col\n",
    "    for t in range(1,T): # t -> col (time)\n",
    "\n",
    "        for s in range(0,n): # s -> row (state)\n",
    "            try:\n",
    "                prob_event = math.log( em[s][o_index[obs[t]]] ) # log( bj(Ot+1))\n",
    "            except: \n",
    "                prob_event = 0\n",
    "\n",
    "            mx = helper(ls[:, t-1], tm[s][:])\n",
    "\n",
    "            value = prob_event + mx[1]\n",
    "            ls[s][t] = value\n",
    "            phi[s][t] = mx[0]\n",
    "\n",
    "    last_col = ls[:, np.shape(ls)[1]-1]\n",
    "\n",
    "    start = np.argmax(last_col)\n",
    "    path = [start]\n",
    "\n",
    "    for time in range(T-1, 0, -1):\n",
    "        start = phi[int(start)][time]\n",
    "        path = np.insert(path, 0, int(start))\n",
    "    \n",
    "    return path"
   ]
  },
  {
   "cell_type": "code",
   "execution_count": 144,
   "metadata": {
    "collapsed": true
   },
   "outputs": [],
   "source": [
    "init = np.zeros(len(s_index))\n",
    "init[s_index['DET']] = 1"
   ]
  },
  {
   "cell_type": "code",
   "execution_count": 157,
   "metadata": {
    "collapsed": false,
    "scrolled": true
   },
   "outputs": [],
   "source": [
    "path = run(em, tm, flat_corp, init)"
   ]
  },
  {
   "cell_type": "code",
   "execution_count": 158,
   "metadata": {
    "collapsed": false,
    "scrolled": true
   },
   "outputs": [
    {
     "name": "stdout",
     "output_type": "stream",
     "text": [
      "[10 10 10 ...,  0  9  1]\n"
     ]
    }
   ],
   "source": [
    "print(path)"
   ]
  },
  {
   "cell_type": "code",
   "execution_count": 159,
   "metadata": {
    "collapsed": false
   },
   "outputs": [
    {
     "data": {
      "text/plain": [
       "{'.': 7,\n",
       " 'ADJ': 2,\n",
       " 'ADP': 3,\n",
       " 'ADV': 6,\n",
       " 'CONJ': 10,\n",
       " 'DET': 0,\n",
       " 'NOUN': 5,\n",
       " 'NUM': 8,\n",
       " 'PRON': 1,\n",
       " 'PRT': 4,\n",
       " 'VERB': 11,\n",
       " 'X': 9}"
      ]
     },
     "execution_count": 159,
     "metadata": {},
     "output_type": "execute_result"
    }
   ],
   "source": [
    "s_index"
   ]
  },
  {
   "cell_type": "code",
   "execution_count": 30,
   "metadata": {
    "collapsed": false,
    "scrolled": false
   },
   "outputs": [
    {
     "name": "stdout",
     "output_type": "stream",
     "text": [
      "['The', 'Fulton', 'County', 'Grand', 'Jury', 'said', 'Friday', 'an', 'investigation', 'of', \"Atlanta's\", 'recent', 'primary', 'election', 'produced', '``', 'no', 'evidence', \"''\", 'that', 'any', 'irregularities', 'took', 'place', '.']\n",
      "['The', 'jury', 'further', 'said', 'in', 'term-end', 'presentments', 'that', 'the', 'City', 'Executive', 'Committee', ',', 'which', 'had', 'over-all', 'charge', 'of', 'the', 'election', ',', '``', 'deserves', 'the', 'praise', 'and', 'thanks', 'of', 'the', 'City', 'of', 'Atlanta', \"''\", 'for', 'the', 'manner', 'in', 'which', 'the', 'election', 'was', 'conducted', '.']\n",
      "4623\n",
      "defaultdict(<class 'int'>, {'DET': 1116, 'PRON': 435, 'ADJ': 208, 'ADP': 456, 'PRT': 127, 'NOUN': 1208, 'ADV': 251, '.': 405, 'NUM': 77, 'X': 2, 'CONJ': 168, 'VERB': 170})\n",
      "4623\n"
     ]
    }
   ],
   "source": [
    "if __name__ == \"__main__\":\n",
    "    main()"
   ]
  },
  {
   "cell_type": "code",
   "execution_count": 29,
   "metadata": {
    "collapsed": false
   },
   "outputs": [],
   "source": [
    "def main():\n",
    "    corp = brown.sents(categories='news')\n",
    "    print(corp[0])\n",
    "    print(corp[1])\n",
    "\n",
    "    brown_news_tagged = brown.tagged_sents(categories='news', tagset='universal')\n",
    "\n",
    "    pi_s, count = pi(brown_news_tagged)\n",
    "    print(pi_s)\n",
    "    print(count)"
   ]
  },
  {
   "cell_type": "code",
   "execution_count": 35,
   "metadata": {
    "collapsed": false
   },
   "outputs": [],
   "source": [
    "def pi(sents):\n",
    "    pos = defaultdict(int)\n",
    "    count = 0\n",
    "    for s in sents:\n",
    "        pos[s[0][1]] += 1\n",
    "        count += 1\n",
    "    return pos, count"
   ]
  }
 ],
 "metadata": {
  "anaconda-cloud": {},
  "kernelspec": {
   "display_name": "Python [conda root]",
   "language": "python",
   "name": "conda-root-py"
  },
  "language_info": {
   "codemirror_mode": {
    "name": "ipython",
    "version": 3
   },
   "file_extension": ".py",
   "mimetype": "text/x-python",
   "name": "python",
   "nbconvert_exporter": "python",
   "pygments_lexer": "ipython3",
   "version": "3.5.2"
  }
 },
 "nbformat": 4,
 "nbformat_minor": 1
}
