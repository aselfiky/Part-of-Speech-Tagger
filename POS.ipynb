{
 "cells": [
  {
   "cell_type": "code",
   "execution_count": 291,
   "metadata": {},
   "outputs": [],
   "source": [
    "import nltk\n",
    "from nltk.corpus import brown\n",
    "from collections import defaultdict\n",
    "from collections import Counter\n",
    "import numpy as np\n",
    "import math"
   ]
  },
  {
   "cell_type": "code",
   "execution_count": 292,
   "metadata": {},
   "outputs": [],
   "source": [
    "corp = brown.sents(categories='news')\n",
    "brown_news_tagged = brown.tagged_sents(categories='news', tagset='universal')"
   ]
  },
  {
   "cell_type": "code",
   "execution_count": 293,
   "metadata": {},
   "outputs": [],
   "source": [
    "flat_corp = [item for l in corp for item in l]"
   ]
  },
  {
   "cell_type": "code",
   "execution_count": 294,
   "metadata": {},
   "outputs": [],
   "source": [
    "flat_brown = [item for l in brown_news_tagged for item in l]"
   ]
  },
  {
   "cell_type": "code",
   "execution_count": 295,
   "metadata": {},
   "outputs": [],
   "source": [
    "b = Counter(flat_brown)"
   ]
  },
  {
   "cell_type": "code",
   "execution_count": 296,
   "metadata": {},
   "outputs": [],
   "source": [
    "# count parts of speech for each word\n",
    "b_ik = defaultdict(dict)\n",
    "for w_pos, c in b.items():\n",
    "    b_ik[w_pos[0]][w_pos[1]] = c"
   ]
  },
  {
   "cell_type": "code",
   "execution_count": 297,
   "metadata": {},
   "outputs": [],
   "source": [
    "# count # of occurences of each POS\n",
    "denom = defaultdict(int)\n",
    "for w_pos, c in b.items():\n",
    "    denom[w_pos[1]] += c"
   ]
  },
  {
   "cell_type": "code",
   "execution_count": 298,
   "metadata": {},
   "outputs": [],
   "source": [
    "# count the bigrams\n",
    "a_ij = defaultdict(dict)\n",
    "for c in range(0, len(flat_brown) - 1):\n",
    "    if flat_brown[c+1][1] in a_ij[flat_brown[c][1]]:\n",
    "        a_ij[flat_brown[c][1]][flat_brown[c+1][1]] += 1\n",
    "    else:\n",
    "        a_ij[flat_brown[c][1]][flat_brown[c+1][1]] = 1"
   ]
  },
  {
   "cell_type": "code",
   "execution_count": 299,
   "metadata": {},
   "outputs": [],
   "source": [
    "# word to number dictionary\n",
    "o_index = dict(zip(b_ik, range(len(b_ik))))"
   ]
  },
  {
   "cell_type": "code",
   "execution_count": 300,
   "metadata": {},
   "outputs": [],
   "source": [
    "# number to word dictionary\n",
    "o_index_n = dict(zip(range(len(b_ik)), b_ik))"
   ]
  },
  {
   "cell_type": "code",
   "execution_count": 301,
   "metadata": {},
   "outputs": [],
   "source": [
    "# POS to number dictionary\n",
    "s_index = dict(zip(a_ij, range(len(a_ij))))"
   ]
  },
  {
   "cell_type": "code",
   "execution_count": 302,
   "metadata": {},
   "outputs": [],
   "source": [
    "# number to POS dictionary\n",
    "s_index_n = dict(zip(range(len(a_ij)), a_ij))"
   ]
  },
  {
   "cell_type": "code",
   "execution_count": 303,
   "metadata": {},
   "outputs": [],
   "source": [
    "em = np.zeros((len(s_index), len(o_index)))\n",
    "tm = np.zeros((len(s_index), len(s_index)))"
   ]
  },
  {
   "cell_type": "code",
   "execution_count": 311,
   "metadata": {},
   "outputs": [],
   "source": [
    "lam = .1"
   ]
  },
  {
   "cell_type": "code",
   "execution_count": 312,
   "metadata": {},
   "outputs": [],
   "source": [
    "# Construct emission matrix with Laplace Smoothing\n",
    "for col in range(0, len(em[0])):\n",
    "    for row in range(0, len(em)):\n",
    "        pos_list = b_ik[o_index_n[col]]\n",
    "        if (s_index_n[row] in pos_list):\n",
    "            em[row][col] = (b_ik[o_index_n[col]][s_index_n[row]] + lam) * 1.0 / (denom[s_index_n[row]] + len(em) * lam)\n",
    "        else:\n",
    "            em[row][col] = (lam) / (denom[s_index_n[row]] + len(em) * lam)"
   ]
  },
  {
   "cell_type": "code",
   "execution_count": 313,
   "metadata": {},
   "outputs": [],
   "source": [
    "# Constuct transition matrix with Laplace Smoothing\n",
    "for row in range(0, len(tm)):\n",
    "    for col in range(0, len(tm[0])):\n",
    "        pos_list = a_ij[s_index_n[row]]\n",
    "        if (s_index_n[col] in pos_list):\n",
    "            tm[row][col] = (a_ij[s_index_n[row]][s_index_n[col]] + lam) * 1.0 / (denom[s_index_n[row]] + len(tm) * lam)\n",
    "        else:\n",
    "            tm[row][col] = (lam) / (denom[s_index_n[row]] + len(tm) * lam)"
   ]
  },
  {
   "cell_type": "code",
   "execution_count": 314,
   "metadata": {},
   "outputs": [],
   "source": [
    "# gets argmax{S}\n",
    "def argmax(col, tm):\n",
    "    mx = (-1, -float(\"inf\"))\n",
    "\n",
    "    for row in range(len(col)):\n",
    "        value = col[row]\n",
    "        value += math.log(tm[row])\n",
    "\n",
    "        if value > mx[1]:\n",
    "            mx = (row, value)\n",
    "\n",
    "    return mx"
   ]
  },
  {
   "cell_type": "code",
   "execution_count": 315,
   "metadata": {},
   "outputs": [],
   "source": [
    "def viterbi(em, tm, obs, init):\n",
    "    n = len(em); T = len(obs)\n",
    "    # step 1: init n x T matrix\n",
    "    ls = np.zeros((n, T))\n",
    "    phi = np.zeros((n, T))\n",
    "\n",
    "\n",
    "    # col 1 in ls -> log(pi_i*bi_o1)\n",
    "    for r in range(len(init)):\n",
    "        value = init[r]*em[r][o_index[obs[0]]]\n",
    "        if value != 0:\n",
    "            ls[r][0] = math.log(value)\n",
    "\n",
    "    #step 2: fill in tables by col\n",
    "    for t in range(1,T): # t -> col (time)\n",
    "\n",
    "        for s in range(0,n): # s -> row (state)\n",
    "            prob_event = math.log( em[s][o_index[obs[t]]] ) # log( bj(Ot+1))\n",
    "\n",
    "            index, lmax = argmax(ls[:, t-1], tm[s][:])\n",
    "\n",
    "            value = prob_event + lmax\n",
    "            ls[s][t] = value\n",
    "            phi[s][t] = index\n",
    "\n",
    "    last_col = ls[:, np.shape(ls)[1]-1]\n",
    "\n",
    "    start = np.argmax(last_col)\n",
    "    path = [start]\n",
    "\n",
    "    for time in range(T-1, 0, -1):\n",
    "        start = phi[int(start)][time]\n",
    "        path = np.insert(path, 0, int(start))\n",
    "    \n",
    "    return path"
   ]
  },
  {
   "cell_type": "code",
   "execution_count": 316,
   "metadata": {},
   "outputs": [],
   "source": [
    "# set inital states\n",
    "init = np.zeros(len(s_index))\n",
    "init[s_index['DET']] = 1"
   ]
  },
  {
   "cell_type": "code",
   "execution_count": 317,
   "metadata": {
    "scrolled": true
   },
   "outputs": [],
   "source": [
    "path = viterbi(em, tm, flat_corp, init)"
   ]
  },
  {
   "cell_type": "code",
   "execution_count": 318,
   "metadata": {},
   "outputs": [],
   "source": [
    "# map index -> POS\n",
    "def decode(path):\n",
    "    tags = []\n",
    "    for i in path:\n",
    "        tags.append(s_index_n[i])\n",
    "    \n",
    "    return tags"
   ]
  },
  {
   "cell_type": "code",
   "execution_count": 319,
   "metadata": {},
   "outputs": [],
   "source": [
    "# get correct POS from NLTK\n",
    "valid = []\n",
    "for w in flat_brown:\n",
    "    valid.append(w[1])"
   ]
  },
  {
   "cell_type": "code",
   "execution_count": 320,
   "metadata": {},
   "outputs": [],
   "source": [
    "test = decode(path)"
   ]
  },
  {
   "cell_type": "code",
   "execution_count": 321,
   "metadata": {},
   "outputs": [
    {
     "name": "stdout",
     "output_type": "stream",
     "text": [
      "tagger accuracy: 33.2627245062%\n"
     ]
    }
   ],
   "source": [
    "# compute the number of correct tags against NLTK tagger\n",
    "correct = 0\n",
    "total = 0\n",
    "for i in range(len(test)):\n",
    "    if test[i] == valid[i]:\n",
    "        correct += 1\n",
    "    total += 1\n",
    "    \n",
    "c = correct * 1.0/total * 100\n",
    "print(\"tagger accuracy: \" + str(c) + \"%\")"
   ]
  },
  {
   "cell_type": "code",
   "execution_count": null,
   "metadata": {},
   "outputs": [],
   "source": []
  }
 ],
 "metadata": {
  "anaconda-cloud": {},
  "kernelspec": {
   "display_name": "Python 2",
   "language": "python",
   "name": "python2"
  },
  "language_info": {
   "codemirror_mode": {
    "name": "ipython",
    "version": 2
   },
   "file_extension": ".py",
   "mimetype": "text/x-python",
   "name": "python",
   "nbconvert_exporter": "python",
   "pygments_lexer": "ipython2",
   "version": "2.7.15"
  }
 },
 "nbformat": 4,
 "nbformat_minor": 1
}
